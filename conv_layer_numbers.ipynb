{
 "cells": [
  {
   "cell_type": "code",
   "execution_count": null,
   "metadata": {},
   "outputs": [],
   "source": [
    "import tensorflow as tf\n",
    "import numpy as np\n",
    "import matplotlib.pyplot as plt"
   ]
  },
  {
   "cell_type": "code",
   "execution_count": null,
   "metadata": {},
   "outputs": [],
   "source": [
    "tf.reset_default_graph()\n",
    "\n",
    "color_channels = 1  # data is in black and white, 1 channel\n",
    "image_height = 28\n",
    "image_width = 28"
   ]
  },
  {
   "cell_type": "code",
   "execution_count": null,
   "metadata": {},
   "outputs": [],
   "source": [
    "from tensorflow.keras.datasets import mnist"
   ]
  },
  {
   "cell_type": "code",
   "execution_count": null,
   "metadata": {},
   "outputs": [],
   "source": [
    "(x_train, y_train), (x_test, y_test) = mnist.load_data()  # sets up the data from mnist\n",
    "\n",
    "# print(x_train.shape)  # contains 60,000 imgs that are 28x28\n",
    "# print(y_train.shape)  # 60,000 values"
   ]
  },
  {
   "cell_type": "code",
   "execution_count": null,
   "metadata": {},
   "outputs": [],
   "source": [
    "# TODO: Setting up Neural Network\n",
    "class CNN:\n",
    "    def __init__(self, image_height, image_width, channels, num_classes):\n",
    "        self.input_layer = tf.placeholder(dtype=tf.float32, shape=[None, image_height, image_width, channels])\n",
    "        \n",
    "        conv_layer_1 = tf.layers.conv2d(self.input_layer, filters=32, kernel_size=[2, 2], padding=\"same\", activation=tf.nn.relu)  # convolutional layer\n",
    "        \"\"\"The first input is the layer before the current one, the last input\n",
    "            is the activation function. This act fn helps neural net solve for what\n",
    "            the object could potentially be.\"\"\"\n",
    "        pooling_layer_1 = tf.layers.max_pooling2d(conv_layer_1, pool_size=[2, 2], strides=2)  # pooling layer\n",
    "        \n",
    "        conv_layer_2 = tf.layers.conv2d(pooling_layer_1, filters=32, kernel_size=[2, 2], padding=\"same\", activation=tf.nn.relu)  # convolutional layer\n",
    "        pooling_layer_2 = tf.layers.max_pooling2d(conv_layer_2, pool_size=[2, 2], strides=2)  # pooling layer\n",
    "        \n",
    "        # create the flatten layer...\n",
    "        flattened_pooling = tf.layers.flatten(pooling_layer_2)  # pooling layer\n",
    "        dense_layer = tf.layers.dense(flattened_pooling, 1024, activation=tf.nn.relu)  # dense layer: takes last layer, number of neurons to activate activation layer, and activation fn\n",
    "        \n",
    "        dropout = tf.layers.dropout(dense_layer, rate=0.4, training=True)  # dropout layer\n",
    "        outputs = tf.layers.dense(dropout, num_classes)  # output layer\n",
    "        \n",
    "        \n",
    "        # Getting data from the network\n",
    "        self.choice = tf.argmax(outputs, axis=1)  # (1) CHOICE VARIABLE \n",
    "            # axis is dependent on which var to check for maximum, output is 1d, theres 1 axis\n",
    "        self.probability = tf.nn.softmax(outputs)  # (2) SCALE PROBABILITIES\n",
    "        self.labels = tf.placeholder(dtype=tf.float32, name=\"labels\")  # (3) CREATE LABELS CONTAINER\n",
    "        self.accuracy, self.accuracy_op = tf.metrics.accuracy(self.labels, self.choice)  # (4) GATHERING ACCURACY\n",
    "        one_hot_labels = tf.one_hot(indices=tf.cast(self.labels, dtype=tf.int32), depth=num_classes)  # (5) ONE-HOT ENCODING, depth determined on num of possibilities (10)\n",
    "        self.loss = tf.losses.softmax_cross_entropy(onehot_labels=one_hot_labels, logits=outputs)  # (6) LOSS FN\n",
    "        optimizer = tf.train.GradientDescentOptimizer(learning_rate=1e-3)  # (7) OPTIMIZER, helps reduce loss with LEARNING RATE var (0>x>1)\n",
    "        self.train_operation = optimizer.minimize(loss=self.loss, global_step=tf.train.get_global_step())  # (8) TRAINING STEP\n",
    "        \n",
    "        \n",
    "        "
   ]
  },
  {
   "cell_type": "code",
   "execution_count": null,
   "metadata": {},
   "outputs": [],
   "source": [
    "steps = 5000\n",
    "batch_size = 32\n",
    "num_classes = 10\n",
    "\n",
    "test_img = x_test[2]\n",
    "plt.imshow(test_img)\n",
    "plt.show()\n",
    "test_img = test_img.reshape(-1, image_height, image_width, 1)\n",
    "\n",
    "x_train = x_train.reshape(-1, image_height, image_width, 1)\n",
    "\n",
    "cnn = CNN(image_height, image_width, color_channels, num_classes)"
   ]
  },
  {
   "cell_type": "code",
   "execution_count": null,
   "metadata": {},
   "outputs": [],
   "source": [
    "with tf.Session() as sess:\n",
    "    sess.run(tf.global_variables_initializer())\n",
    "    sess.run(tf.local_variables_initializer())\n",
    "    \n",
    "    step = 0\n",
    "    while step < steps:\n",
    "        print(sess.run((cnn.train_operation, cnn.accuracy_op),\n",
    "                       feed_dict={cnn.input_layer:x_train[step: step + batch_size],\n",
    "                                cnn.labels:y_train[step: step + batch_size]}))\n",
    "        step += batch_size\n",
    "    \n",
    "    print(sess.run(cnn.choice, feed_dict={cnn.input_layer:test_img}))\n",
    "    "
   ]
  },
  {
   "cell_type": "code",
   "execution_count": null,
   "metadata": {},
   "outputs": [],
   "source": []
  }
 ],
 "metadata": {
  "kernelspec": {
   "display_name": "Python 3",
   "language": "python",
   "name": "python3"
  },
  "language_info": {
   "codemirror_mode": {
    "name": "ipython",
    "version": 3
   },
   "file_extension": ".py",
   "mimetype": "text/x-python",
   "name": "python",
   "nbconvert_exporter": "python",
   "pygments_lexer": "ipython3",
   "version": "3.7.3"
  }
 },
 "nbformat": 4,
 "nbformat_minor": 2
}
